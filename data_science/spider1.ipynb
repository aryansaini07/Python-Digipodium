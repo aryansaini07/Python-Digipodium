{
 "cells": [
  {
   "cell_type": "code",
   "execution_count": 1,
   "metadata": {},
   "outputs": [],
   "source": [
    "from dputils import scrape as sc"
   ]
  },
  {
   "cell_type": "code",
   "execution_count": 4,
   "metadata": {},
   "outputs": [],
   "source": [
    "url = 'https://www.amazon.in/s?k=mobiles&ref=nb_sb_noss'\n",
    "soup = sc.get_webpage_data(url)"
   ]
  },
  {
   "cell_type": "code",
   "execution_count": 7,
   "metadata": {},
   "outputs": [
    {
     "data": {
      "text/plain": [
       "<title>Amazon.in : mobiles</title>"
      ]
     },
     "execution_count": 7,
     "metadata": {},
     "output_type": "execute_result"
    }
   ],
   "source": [
    "soup.find('title')"
   ]
  },
  {
   "cell_type": "code",
   "execution_count": 8,
   "metadata": {},
   "outputs": [],
   "source": [
    "target = {\n",
    "    'tag':'div',\n",
    "    'attrs': {\n",
    "        'class':'s-main-slot s-result-list s-search-results sg-row'\n",
    "    }\n",
    "}"
   ]
  },
  {
   "cell_type": "code",
   "execution_count": 9,
   "metadata": {},
   "outputs": [],
   "source": [
    "items = {\n",
    "    'tag':'div',\n",
    "    'attrs':{\n",
    "        'class':'s-result-item'\n",
    "    }\n",
    "}\n",
    "#items that we want from each item\n",
    "title = {\n",
    "    'tag':'h2',\n",
    "    'attrs':{\n",
    "        'class':'a-size-mini a-spacing-none a-color-base s-line-clamp-2'\n",
    "    }\n",
    "}\n",
    "price = {\n",
    "    'tag':'span',\n",
    "    'attrs':{\n",
    "        'class':'a-price-whole'\n",
    "    }\n",
    "}"
   ]
  },
  {
   "cell_type": "code",
   "execution_count": 10,
   "metadata": {},
   "outputs": [
    {
     "name": "stdout",
     "output_type": "stream",
     "text": [
      "30 items found\n",
      "Item skipped at index: 0\n",
      "Item skipped at index: 1\n",
      "Item skipped at index: 8\n",
      "Item skipped at index: 26\n",
      "Item skipped at index: 27\n",
      "Item skipped at index: 28\n",
      "Item skipped at index: 29\n",
      "All items extracted\n"
     ]
    }
   ],
   "source": [
    "output = sc.extract_many(soup,\n",
    "                         target = target,\n",
    "                         items=items,\n",
    "                         title=title,\n",
    "                         price=price)"
   ]
  },
  {
   "cell_type": "code",
   "execution_count": 11,
   "metadata": {},
   "outputs": [
    {
     "name": "stdout",
     "output_type": "stream",
     "text": [
      "[{'price': '13,999',\n",
      "  'title': 'Samsung Galaxy M13 (Stardust Brown, 6GB, 128GB Storage) | 6000mAh '\n",
      "           'Battery | Upto 12GB RAM with RAM Plus | 2000 Instant Discount on '\n",
      "           'SBI Credit Cards Valid Till 10th August'},\n",
      " {'price': '18,999',\n",
      "  'title': 'Samsung Galaxy M33 5G (Emerald Brown, 6GB, 128GB Storage) | '\n",
      "           '6000mAh Battery | Upto 12GB RAM with RAM Plus | Travel Adapter to '\n",
      "           'be Purchased Separately'},\n",
      " {'price': '14,990',\n",
      "  'title': 'OPPO A74 5G (Fantastic Purple,6GB RAM,128GB Storage) with No Cost '\n",
      "           'EMI/Additional Exchange Offers'},\n",
      " {'price': '10,999',\n",
      "  'title': 'Redmi 10 Prime (Phantom Black 4GB RAM 64GB | Helio G88 with '\n",
      "           'extendable RAM Upto 2GB | FHD+ 90Hz Adaptive Sync Display)'},\n",
      " {'price': '6,999',\n",
      "  'title': 'Redmi 9A Sport (Coral Green, 2GB RAM, 32GB Storage) | 2GHz '\n",
      "           'Octa-core Helio G25 Processor | 5000 mAh Battery'},\n",
      " {'price': '18,999',\n",
      "  'title': 'Redmi Note 11 Pro (Stealth Black, 6GB RAM, 128GB Storage) | 67W '\n",
      "           'Turbo Charge | 120Hz Super AMOLED Display'},\n",
      " {'price': '11,990',\n",
      "  'title': 'OPPO A31 (Mystery Black, 6GB RAM, 128GB Storage) with No Cost '\n",
      "           'EMI/Additional Exchange Offers'},\n",
      " {'price': '8,999',\n",
      "  'title': 'Redmi 9 Activ (Coral Green, 4GB RAM, 64GB Storage)'},\n",
      " {'price': '9,990',\n",
      "  'title': 'OPPO A15s (Rainbow Silver, 4GB RAM, 64GB Storage) With No Cost '\n",
      "           'EMI/Additional Exchange Offers'},\n",
      " {'price': '12,999',\n",
      "  'title': 'Redmi Note 11 (Space Black, 4GB RAM, 64GB Storage)|90Hz FHD+ '\n",
      "           'AMOLED Display | Qualcomm® Snapdragon™ 680-6nm | Alexa Built-in | '\n",
      "           '33W Charger Included | Get 2 Months of YouTube Premium Free!'},\n",
      " {'price': '4,737',\n",
      "  'title': 'JioPhone Next 32 GB ROM, 2 GB RAM, Blue Smartphone'},\n",
      " {'price': '11,299',\n",
      "  'title': 'Nokia C21 Plus Android Smartphone, Dual SIM, 3-Day Battery Life, '\n",
      "           '4GB RAM + 64GB Storage, 13MP Dual Camera with HDR | Warm Grey'},\n",
      " {'price': '39,990',\n",
      "  'title': 'Samsung Galaxy S20 FE 5G (Cloud Navy, 8GB RAM, 128GB Storage) with '\n",
      "           'No Cost EMI & Additional Exchange Offers'},\n",
      " {'price': '8,799', 'title': 'Redmi 10A (Slate Grey, 4GB RAM, 64GB Storage)'},\n",
      " {'price': '14,990',\n",
      "  'title': 'OPPO A74 5G (Fluid Black, 6GB RAM, 128GB Storage) with No Cost '\n",
      "           'EMI/Additional Exchange Offers'},\n",
      " {'price': '13,999',\n",
      "  'title': 'Samsung Galaxy M32 (Light Blue, 6GB RAM, 128GB | FHD+ sAMOLED 90Hz '\n",
      "           'Display | 6000mAh Battery | 64MP Quad Camera'},\n",
      " {'price': '18,999',\n",
      "  'title': 'OnePlus Nord CE 2 Lite 5G (Black Dusk, 6GB RAM, 128GB Storage)'},\n",
      " {'price': '7,999',\n",
      "  'title': 'Redmi 9A(Midnight Black 3GB RAM 32GB Storage) | 2GHz Octa-core '\n",
      "           'Helio G25 Processor | 5000 mAh Battery'},\n",
      " {'price': '6,999',\n",
      "  'title': 'Redmi 9A Sport (Metallic Blue, 2GB RAM, 32GB Storage) | 2GHz '\n",
      "           'Octa-core Helio G25 Processor | 5000 mAh Battery'},\n",
      " {'price': '15,999',\n",
      "  'title': 'Redmi Note 10 Pro (Vintage Bronze, 6GB RAM, 128GB Storage) -120Hz '\n",
      "           'Super Amoled Display | 64MP Camera with 5MP Super Tele-Macro | 33W '\n",
      "           'Charger Included'},\n",
      " {'price': '11,999',\n",
      "  'title': 'Samsung Galaxy M32 (Light Blue, 4GB RAM, 64GB | FHD+ sAMOLED 90Hz '\n",
      "           'Display | 6000mAh Battery | 64MP Quad Camera'},\n",
      " {'price': '17,990',\n",
      "  'title': 'Vivo Y33T (Mirror Black, 8GB RAM, 128GB ROM) Without Offers, '\n",
      "           '(PD2142BF_Mirror Black_1)'},\n",
      " {'price': '14,999',\n",
      "  'title': 'Redmi Note 11T 5G (Stardust White, 6GB RAM, 128GB ROM)| Dimensity '\n",
      "           '810 5G | 33W Pro Fast Charging | Charger Included | Additional '\n",
      "           'Exchange Offers|Get 2 Months of YouTube Premium Free!'}]\n"
     ]
    }
   ],
   "source": [
    "from pprint import pprint\n",
    "pprint(output)"
   ]
  },
  {
   "cell_type": "code",
   "execution_count": null,
   "metadata": {},
   "outputs": [],
   "source": []
  }
 ],
 "metadata": {
  "kernelspec": {
   "display_name": "Python 3.9.12 ('base')",
   "language": "python",
   "name": "python3"
  },
  "language_info": {
   "codemirror_mode": {
    "name": "ipython",
    "version": 3
   },
   "file_extension": ".py",
   "mimetype": "text/x-python",
   "name": "python",
   "nbconvert_exporter": "python",
   "pygments_lexer": "ipython3",
   "version": "3.9.12"
  },
  "orig_nbformat": 4,
  "vscode": {
   "interpreter": {
    "hash": "94da08f338e80510c67c0e170d825e81e584174cf068fdec7b6c1dd9466d3963"
   }
  }
 },
 "nbformat": 4,
 "nbformat_minor": 2
}
